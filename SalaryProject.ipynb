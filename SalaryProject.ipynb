{
 "cells": [
  {
   "cell_type": "code",
   "execution_count": 11,
   "metadata": {},
   "outputs": [],
   "source": [
    "import pandas as pd\n",
    "import matplotlib.pyplot as plt\n",
    "%matplotlib inline\n",
    "data=pd.read_csv('/home/daniel/Downloads/salaries.csv')"
   ]
  },
  {
   "cell_type": "code",
   "execution_count": 5,
   "metadata": {},
   "outputs": [
    {
     "data": {
      "text/plain": [
       "Index(['club', 'last_name', 'first_name', 'position', 'base_salary',\n",
       "       'guaranteed_compensation'],\n",
       "      dtype='object')"
      ]
     },
     "execution_count": 5,
     "metadata": {},
     "output_type": "execute_result"
    }
   ],
   "source": [
    "#What columns are we working with\n",
    "data.columns"
   ]
  },
  {
   "cell_type": "code",
   "execution_count": 15,
   "metadata": {},
   "outputs": [
    {
     "data": {
      "text/plain": [
       "club\n",
       "CHI     44100.00\n",
       "CHV     54995.80\n",
       "CLB     46331.25\n",
       "COL     55000.00\n",
       "DAL     45000.00\n",
       "DC      36000.00\n",
       "HOU     51149.00\n",
       "KC      33075.00\n",
       "LA      63750.00\n",
       "NE      35500.00\n",
       "NY      48000.00\n",
       "Pool    17700.00\n",
       "RSL     48000.00\n",
       "TFC     50000.00\n",
       "Name: base_salary, dtype: float64"
      ]
     },
     "execution_count": 15,
     "metadata": {},
     "output_type": "execute_result"
    }
   ],
   "source": [
    "#Let's group salaries by club\n",
    "clubSalaries=data.groupby('club')['base_salary'].median()\n",
    "clubSalaries"
   ]
  },
  {
   "cell_type": "code",
   "execution_count": 21,
   "metadata": {},
   "outputs": [
    {
     "data": {
      "text/plain": [
       "<matplotlib.axes._subplots.AxesSubplot at 0x7f593f6fd5f8>"
      ]
     },
     "execution_count": 21,
     "metadata": {},
     "output_type": "execute_result"
    },
    {
     "data": {
      "image/png": "[encoded data removed]",
      "text/plain": [
       "<matplotlib.figure.Figure at 0x7f593f690470>"
      ]
     },
     "metadata": {},
     "output_type": "display_data"
    }
   ],
   "source": [
    "clubSalaries=clubSalaries.sort_values()\n",
    "clubSalaries.plot(figsize=(18, 6), kind='bar')\n",
    "#This graph shows us there seems to be a correlation between club and salary"
   ]
  },
  {
   "cell_type": "code",
   "execution_count": 25,
   "metadata": {},
   "outputs": [
    {
     "data": {
      "text/plain": [
       "<matplotlib.axes._subplots.AxesSubplot at 0x7f593f684390>"
      ]
     },
     "execution_count": 25,
     "metadata": {},
     "output_type": "execute_result"
    },
    {
     "data": {
      "image/png": "[encoded data removed]",
      "text/plain": [
       "<matplotlib.figure.Figure at 0x7f593f276550>"
      ]
     },
     "metadata": {},
     "output_type": "display_data"
    }
   ],
   "source": [
    "positionSalaries=data.groupby('position')['base_salary'].median()\n",
    "positionSalaries=positionSalaries.sort_values()\n",
    "positionSalaries.plot(figsize=(18, 6), kind='bar')\n",
    "#here we see position also plays a large role"
   ]
  },
  {
   "cell_type": "code",
   "execution_count": 27,
   "metadata": {},
   "outputs": [
    {
     "data": {
      "text/plain": [
       "club                          COL\n",
       "last_name                  Hughes\n",
       "first_name                 Justin\n",
       "position                       GK\n",
       "base_salary                 12900\n",
       "guaranteed_compensation     12900\n",
       "Name: 100, dtype: object"
      ]
     },
     "execution_count": 27,
     "metadata": {},
     "output_type": "execute_result"
    }
   ],
   "source": [
    "data.loc[100]"
   ]
  },
  {
   "cell_type": "code",
   "execution_count": 31,
   "metadata": {
    "collapsed": true
   },
   "outputs": [],
   "source": [
    "#Now I'm going to take the data from 2007-2017 and make one big set\n",
    "data2007=pd.read_csv('/home/daniel/Documents/mls-salaries-2007.csv')\n",
    "data2008=pd.read_csv('/home/daniel/Documents/mls-salaries-2008.csv')\n",
    "data2009=pd.read_csv('/home/daniel/Documents/mls-salaries-2009.csv')\n",
    "data2010=pd.read_csv('/home/daniel/Documents/mls-salaries-2010.csv')\n",
    "data2011=pd.read_csv('/home/daniel/Documents/mls-salaries-2011.csv')\n",
    "data2012=pd.read_csv('/home/daniel/Documents/mls-salaries-2012.csv')\n",
    "data2013=pd.read_csv('/home/daniel/Documents/mls-salaries-2013.csv')\n",
    "data2014=pd.read_csv('/home/daniel/Documents/mls-salaries-2014.csv')\n",
    "data2015=pd.read_csv('/home/daniel/Documents/mls-salaries-2015.csv')\n",
    "data2016=pd.read_csv('/home/daniel/Documents/mls-salaries-2016.csv')\n",
    "data2017=pd.read_csv('/home/daniel/Documents/mls-salaries-2017.csv')\n"
   ]
  },
  {
   "cell_type": "code",
   "execution_count": 32,
   "metadata": {
    "collapsed": true
   },
   "outputs": [],
   "source": [
    "dataArray=[data2007, data2008, data2009, data2010, data2011, data2012, data2013, data2014, data2015, data2016, data2017]"
   ]
  },
  {
   "cell_type": "code",
   "execution_count": 34,
   "metadata": {},
   "outputs": [],
   "source": [
    "#Now all the datasets have a year column with an appropriate year\n",
    "year=2007\n",
    "for data in dataArray:\n",
    "    data['year']=year\n",
    "    year=year+1"
   ]
  },
  {
   "cell_type": "code",
   "execution_count": 41,
   "metadata": {},
   "outputs": [
    {
     "data": {
      "text/html": [
       "<div>\n",
       "<style>\n",
       "    .dataframe thead tr:only-child th {\n",
       "        text-align: right;\n",
       "    }\n",
       "\n",
       "    .dataframe thead th {\n",
       "        text-align: left;\n",
       "    }\n",
       "\n",
       "    .dataframe tbody tr th {\n",
       "        vertical-align: top;\n",
       "    }\n",
       "</style>\n",
       "<table border=\"1\" class=\"dataframe\">\n",
       "  <thead>\n",
       "    <tr style=\"text-align: right;\">\n",
       "      <th></th>\n",
       "      <th>club</th>\n",
       "      <th>last_name</th>\n",
       "      <th>first_name</th>\n",
       "      <th>position</th>\n",
       "      <th>base_salary</th>\n",
       "      <th>guaranteed_compensation</th>\n",
       "      <th>year</th>\n",
       "    </tr>\n",
       "  </thead>\n",
       "  <tbody>\n",
       "    <tr>\n",
       "      <th>0</th>\n",
       "      <td>CHI</td>\n",
       "      <td>Armas</td>\n",
       "      <td>Chris</td>\n",
       "      <td>M</td>\n",
       "      <td>225000.0</td>\n",
       "      <td>225000.0</td>\n",
       "      <td>2007</td>\n",
       "    </tr>\n",
       "    <tr>\n",
       "      <th>1</th>\n",
       "      <td>CHI</td>\n",
       "      <td>Banner</td>\n",
       "      <td>Michael</td>\n",
       "      <td>M</td>\n",
       "      <td>12900.0</td>\n",
       "      <td>12900.0</td>\n",
       "      <td>2007</td>\n",
       "    </tr>\n",
       "    <tr>\n",
       "      <th>2</th>\n",
       "      <td>CHI</td>\n",
       "      <td>Barrett</td>\n",
       "      <td>Chad</td>\n",
       "      <td>F</td>\n",
       "      <td>41212.5</td>\n",
       "      <td>48712.5</td>\n",
       "      <td>2007</td>\n",
       "    </tr>\n",
       "    <tr>\n",
       "      <th>3</th>\n",
       "      <td>CHI</td>\n",
       "      <td>Blanco</td>\n",
       "      <td>Cuauhtemoc</td>\n",
       "      <td>F</td>\n",
       "      <td>2492316.0</td>\n",
       "      <td>2666778.0</td>\n",
       "      <td>2007</td>\n",
       "    </tr>\n",
       "    <tr>\n",
       "      <th>4</th>\n",
       "      <td>CHI</td>\n",
       "      <td>Brown</td>\n",
       "      <td>C.J.</td>\n",
       "      <td>D</td>\n",
       "      <td>106391.0</td>\n",
       "      <td>106391.0</td>\n",
       "      <td>2007</td>\n",
       "    </tr>\n",
       "  </tbody>\n",
       "</table>\n",
       "</div>"
      ],
      "text/plain": [
       "  club last_name  first_name position  base_salary  guaranteed_compensation  \\\n",
       "0  CHI     Armas       Chris        M     225000.0                 225000.0   \n",
       "1  CHI    Banner     Michael        M      12900.0                  12900.0   \n",
       "2  CHI   Barrett        Chad        F      41212.5                  48712.5   \n",
       "3  CHI    Blanco  Cuauhtemoc        F    2492316.0                2666778.0   \n",
       "4  CHI     Brown        C.J.        D     106391.0                 106391.0   \n",
       "\n",
       "   year  \n",
       "0  2007  \n",
       "1  2007  \n",
       "2  2007  \n",
       "3  2007  \n",
       "4  2007  "
      ]
     },
     "execution_count": 41,
     "metadata": {},
     "output_type": "execute_result"
    }
   ],
   "source": [
    "allData=pd.concat(dataArray)\n",
    "allData.head()"
   ]
  },
  {
   "cell_type": "code",
   "execution_count": 43,
   "metadata": {},
   "outputs": [
    {
     "data": {
      "text/plain": [
       "<matplotlib.axes._subplots.AxesSubplot at 0x7f593efc73c8>"
      ]
     },
     "execution_count": 43,
     "metadata": {},
     "output_type": "execute_result"
    },
    {
     "data": {
      "image/png": "[encoded data removed]",
      "text/plain": [
       "<matplotlib.figure.Figure at 0x7f593f7292e8>"
      ]
     },
     "metadata": {},
     "output_type": "display_data"
    }
   ],
   "source": [
    "#Now lets see how base salary by year looks\n",
    "yearData=allData.groupby('year')['base_salary'].median()\n",
    "yearData.plot(figsize=(18,6))\n",
    "\n",
    "#This turns out to be a very important attribute, as salary more than doubles from 2007 to 2017"
   ]
  },
  {
   "cell_type": "code",
   "execution_count": null,
   "metadata": {
    "collapsed": true
   },
   "outputs": [],
   "source": []
  }
 ],
 "metadata": {
  "kernelspec": {
   "display_name": "Python 3",
   "language": "python",
   "name": "python3"
  },
  "language_info": {
   "codemirror_mode": {
    "name": "ipython",
    "version": 3
   },
   "file_extension": ".py",
   "mimetype": "text/x-python",
   "name": "python",
   "nbconvert_exporter": "python",
   "pygments_lexer": "ipython3",
   "version": "3.6.3"
  }
 },
 "nbformat": 4,
 "nbformat_minor": 2
}
