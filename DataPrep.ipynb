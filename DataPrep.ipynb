{
 "cells": [
  {
   "cell_type": "code",
   "execution_count": 142,
   "metadata": {},
   "outputs": [],
   "source": [
    "import pandas as pd\n",
    "import numpy as np\n",
    "import matplotlib.pyplot as plt\n",
    "%matplotlib inline"
   ]
  },
  {
   "cell_type": "code",
   "execution_count": 143,
   "metadata": {},
   "outputs": [],
   "source": [
    "#Now I'm going to take the data from 2010-2017 \n",
    "data2011=pd.read_csv(\"Data/mls-salaries-2011.csv\")\n",
    "data2012=pd.read_csv(\"Data/mls-salaries-2012.csv\")\n",
    "data2013=pd.read_csv(\"Data/mls-salaries-2013.csv\")\n",
    "data2014=pd.read_csv(\"Data/mls-salaries-2014.csv\")\n",
    "data2015=pd.read_csv(\"Data/mls-salaries-2015.csv\")\n",
    "data2016=pd.read_csv(\"Data/mls-salaries-2016.csv\")\n",
    "data2017=pd.read_csv(\"Data/mls-salaries-2017.csv\")\n",
    "\n",
    "\n"
   ]
  },
  {
   "cell_type": "code",
   "execution_count": 144,
   "metadata": {
    "collapsed": true
   },
   "outputs": [],
   "source": [
    "#Put all the dataframes into an array\n",
    "dataArray=[data2011, data2012, data2013, data2014, data2015, data2016, data2017]"
   ]
  },
  {
   "cell_type": "code",
   "execution_count": 145,
   "metadata": {},
   "outputs": [],
   "source": [
    "year=2011\n",
    "for data in dataArray:\n",
    "    data['year']=year\n",
    "    year=year+1"
   ]
  },
  {
   "cell_type": "code",
   "execution_count": 146,
   "metadata": {},
   "outputs": [],
   "source": [
    "#Add all the data to the data array\n",
    "allData=pd.concat(dataArray)"
   ]
  },
  {
   "cell_type": "code",
   "execution_count": 147,
   "metadata": {},
   "outputs": [],
   "source": [
    "#Import all of the extra data\n",
    "extraData=pd.read_csv(\"Data/extraData.csv\")\n",
    "\n"
   ]
  },
  {
   "cell_type": "code",
   "execution_count": 148,
   "metadata": {},
   "outputs": [],
   "source": [
    "\n",
    "extraData['last_name']=extraData['Last']\n",
    "extraData['first_name']=extraData['First']\n",
    "extraData['year']=extraData['Season']\n",
    "extraData=extraData.drop('Season', 1)\n",
    "extraData=extraData.drop('Last', 1)\n",
    "extraData=extraData.drop('First', 1)\n",
    "extraData=extraData.drop('Player',1)\n",
    "extraData=extraData.drop('Team',1)\n"
   ]
  },
  {
   "cell_type": "code",
   "execution_count": 149,
   "metadata": {},
   "outputs": [
    {
     "data": {
      "text/plain": [
       "club                        object\n",
       "last_name                   object\n",
       "first_name                  object\n",
       "position                    object\n",
       "base_salary                float64\n",
       "guaranteed_compensation    float64\n",
       "year                         int64\n",
       "dtype: object"
      ]
     },
     "execution_count": 149,
     "metadata": {},
     "output_type": "execute_result"
    }
   ],
   "source": [
    "allData.dtypes"
   ]
  },
  {
   "cell_type": "code",
   "execution_count": 150,
   "metadata": {},
   "outputs": [],
   "source": [
    "allData=pd.merge(allData, extraData, on=['first_name', 'last_name', 'year'])"
   ]
  },
  {
   "cell_type": "code",
   "execution_count": 151,
   "metadata": {},
   "outputs": [
    {
     "data": {
      "text/plain": [
       "(2721, 26)"
      ]
     },
     "execution_count": 151,
     "metadata": {},
     "output_type": "execute_result"
    }
   ],
   "source": [
    "allData.shape"
   ]
  },
  {
   "cell_type": "code",
   "execution_count": 154,
   "metadata": {},
   "outputs": [
    {
     "name": "stdout",
     "output_type": "stream",
     "text": [
      "<class 'pandas.core.frame.DataFrame'>\n"
     ]
    }
   ],
   "source": [
    "print(type(allData))\n",
    "#This consolidates the positions somewhat\n",
    "allData['position']=allData['position'].str.replace('F/M', 'F')\n",
    "allData['position']=allData['position'].str.replace('F-M', 'F')\n",
    "allData['position']=allData['position'].str.replace('M/F', 'M')\n",
    "allData['position']=allData['position'].str.replace('M-F', 'M')\n",
    "allData['position']=allData['position'].str.replace('M-D', 'M')\n",
    "allData['position']=allData['position'].str.replace('MF', 'M')\n",
    "allData['position']=allData['position'].str.replace('M/D', 'M')\n",
    "allData['position']=allData['position'].str.replace('D/M', 'D')\n",
    "allData['position']=allData['position'].str.replace('D-M', 'D')\n",
    "allData['position']=allData['position'].str.replace('D/F', 'D')"
   ]
  },
  {
   "cell_type": "code",
   "execution_count": 156,
   "metadata": {},
   "outputs": [],
   "source": []
  },
  {
   "cell_type": "code",
   "execution_count": 157,
   "metadata": {},
   "outputs": [
    {
     "data": {
      "text/plain": [
       "(1061, 26)"
      ]
     },
     "execution_count": 157,
     "metadata": {},
     "output_type": "execute_result"
    }
   ],
   "source": []
  },
  {
   "cell_type": "code",
   "execution_count": null,
   "metadata": {
    "collapsed": true
   },
   "outputs": [],
   "source": []
  }
 ],
 "metadata": {
  "kernelspec": {
   "display_name": "Python 3",
   "language": "python",
   "name": "python3"
  },
  "language_info": {
   "codemirror_mode": {
    "name": "ipython",
    "version": 3
   },
   "file_extension": ".py",
   "mimetype": "text/x-python",
   "name": "python",
   "nbconvert_exporter": "python",
   "pygments_lexer": "ipython3",
   "version": "3.6.3"
  }
 },
 "nbformat": 4,
 "nbformat_minor": 2
}
