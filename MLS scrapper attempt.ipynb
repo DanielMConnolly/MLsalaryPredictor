{
 "cells": [
  {
   "cell_type": "code",
   "execution_count": 6,
   "metadata": {},
   "outputs": [
    {
     "name": "stdout",
     "output_type": "stream",
     "text": [
      "Daniel\n"
     ]
    }
   ],
   "source": [
    "import scrapy\n",
    "import logging\n",
    "import pandas as pd\n",
    "\n",
    "#logging.getLogger('scrapy').setLevel(logging.WARNING)\n",
    "class spyder1(scrapy.Spider):\n",
    "        name='Wikipedia'\n",
    "        start_urls=['https://www.mlssoccer.com/players?site_path=players&name=Justin+Hughes&op=Search&form_build_id=form-dXL9K8qWV3QOXkn5q5aIjTFaQAvnogU-wdD3dusmDVQ&form_id=mp7_club_player_search_form']\n",
    "\n",
    "        def parse(self, response):\n",
    "                ageString=str( response.css('span.age').extract())\n",
    "                age=ageString[ageString.find('>')+1:ageString.find('>')+3]\n",
    "                print(age)\n",
    "                print (\"Daniel\")\n",
    "\n"
   ]
  },
  {
   "cell_type": "code",
   "execution_count": null,
   "metadata": {
    "collapsed": true
   },
   "outputs": [],
   "source": []
  },
  {
   "cell_type": "code",
   "execution_count": null,
   "metadata": {
    "collapsed": true
   },
   "outputs": [],
   "source": []
  },
  {
   "cell_type": "code",
   "execution_count": null,
   "metadata": {
    "collapsed": true
   },
   "outputs": [],
   "source": []
  }
 ],
 "metadata": {
  "kernelspec": {
   "display_name": "Python 3",
   "language": "python",
   "name": "python3"
  },
  "language_info": {
   "codemirror_mode": {
    "name": "ipython",
    "version": 3
   },
   "file_extension": ".py",
   "mimetype": "text/x-python",
   "name": "python",
   "nbconvert_exporter": "python",
   "pygments_lexer": "ipython3",
   "version": "3.6.3"
  }
 },
 "nbformat": 4,
 "nbformat_minor": 2
}
